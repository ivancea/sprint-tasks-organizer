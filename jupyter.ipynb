{
 "metadata": {
  "language_info": {
   "codemirror_mode": {
    "name": "ipython",
    "version": 3
   },
   "file_extension": ".py",
   "mimetype": "text/x-python",
   "name": "python",
   "nbconvert_exporter": "python",
   "pygments_lexer": "ipython3",
   "version": "3.9.5"
  },
  "orig_nbformat": 4,
  "kernelspec": {
   "name": "python3",
   "display_name": "Python 3.9.5 64-bit"
  },
  "interpreter": {
   "hash": "63fd5069d213b44bf678585dea6b12cceca9941eaf7f819626cde1f2670de90d"
  }
 },
 "nbformat": 4,
 "nbformat_minor": 2,
 "cells": [
  {
   "source": [
    "from generate_input import generate_input\n",
    "import json\n",
    "\n",
    "input = generate_input(max_users=3, max_issues=5)\n",
    "\n",
    "print(json.dumps(input.__dict__, indent=2))"
   ],
   "cell_type": "code",
   "metadata": {
    "tags": []
   },
   "execution_count": 2,
   "outputs": [
    {
     "output_type": "stream",
     "name": "stdout",
     "text": [
      "{\n  \"users\": {\n    \"user0\": 6,\n    \"user1\": 8\n  },\n  \"issues\": [\n    {\n      \"name\": \"issue0\",\n      \"users\": {\n        \"user0\": 1\n      }\n    },\n    {\n      \"name\": \"issue1\",\n      \"users\": {}\n    },\n    {\n      \"name\": \"issue2\",\n      \"users\": {\n        \"user0\": 2\n      }\n    },\n    {\n      \"name\": \"issue3\",\n      \"users\": {\n        \"user0\": 2\n      }\n    },\n    {\n      \"name\": \"issue4\",\n      \"users\": {\n        \"user0\": 7\n      }\n    },\n    {\n      \"name\": \"issue0\",\n      \"users\": {\n        \"user0\": 5\n      }\n    },\n    {\n      \"name\": \"issue1\",\n      \"users\": {}\n    },\n    {\n      \"name\": \"issue2\",\n      \"users\": {\n        \"user1\": 0\n      }\n    },\n    {\n      \"name\": \"issue3\",\n      \"users\": {\n        \"user1\": 2\n      }\n    },\n    {\n      \"name\": \"issue4\",\n      \"users\": {\n        \"user0\": 5\n      }\n    }\n  ]\n}\n"
     ]
    }
   ]
  },
  {
   "cell_type": "code",
   "execution_count": null,
   "metadata": {},
   "outputs": [],
   "source": []
  }
 ]
}